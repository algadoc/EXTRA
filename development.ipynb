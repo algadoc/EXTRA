{
 "cells": [
  {
   "cell_type": "code",
   "execution_count": 21,
   "metadata": {},
   "outputs": [
    {
     "name": "stdout",
     "output_type": "stream",
     "text": [
      "The autoreload extension is already loaded. To reload it, use:\n",
      "  %reload_ext autoreload\n"
     ]
    }
   ],
   "source": [
    "%load_ext autoreload\n",
    "%autoreload 2\n",
    "\n",
    "from data_analysis.read_pdf import process_files_in_trade_directory\n",
    "from data_analysis.read_data_from_pdfs import *\n",
    "from google_ai_api_interfacing.gemini_report_api import extract_information_from_report\n",
    "\n",
    "import os\n",
    "import json"
   ]
  },
  {
   "cell_type": "code",
   "execution_count": null,
   "metadata": {},
   "outputs": [
    {
     "name": "stdout",
     "output_type": "stream",
     "text": [
      "Skipped files: 1\n",
      "['trade_analysis_pdfs\\\\.gitkeep']\n",
      "Errored files: 0\n",
      "[]\n"
     ]
    }
   ],
   "source": [
    "# How to load data for all the reports scrapped from the BIS website\n",
    "\n",
    "(file_info_array, skipped_files, skipped_paths, errored_files, errored_paths) = process_files_in_trade_directory()\n",
    "print(\"Skipped files: {}\".format(skipped_files))\n",
    "print(skipped_paths)\n",
    "print(\"Errored files: {}\".format(errored_files))\n",
    "print(errored_paths)"
   ]
  },
  {
   "cell_type": "code",
   "execution_count": 26,
   "metadata": {},
   "outputs": [],
   "source": [
    "# How to process a single report with Google Gemini to extract export information\n",
    "def run_gemini_on_file_info_object(file_info):\n",
    "    data_json_path = \"./google_ai_responses/{year}/{country_file_name}.json\".format(year = file_info[\"year\"], country_file_name = file_info[\"country\"].lower().replace(\" \", \"_\").replace(\"-\", \"_\"))\n",
    "    if not os.path.isfile(data_json_path):\n",
    "        print(\"File for {}, {} does not exist - running results\".format(file_info[\"country\"], file_info[\"year\"]))\n",
    "        model_results = extract_information_from_report(file_info[\"country\"], file_info[\"year\"], file_info[\"absolute_file_path\"])\n",
    "        with open(data_json_path, \"w\") as outfile: \n",
    "            json.dump(model_results, outfile)\n",
    "\n",
    "file_info = file_info_array[1]\n",
    "\n"
   ]
  },
  {
   "cell_type": "code",
   "execution_count": 33,
   "metadata": {},
   "outputs": [
    {
     "name": "stdout",
     "output_type": "stream",
     "text": [
      "File for World, 2022 does not exist - running results\n",
      "Uploaded file '3403-2022-statistical-analysis-of-us-global-trade.pdf' as: https://generativelanguage.googleapis.com/v1beta/files/qkvvfngfqsmt\n",
      "File for Australia, 2022 does not exist - running results\n",
      "Uploaded file '3404-2022-statistical-analysis-of-us-trade-with-australia.pdf' as: https://generativelanguage.googleapis.com/v1beta/files/3qjucskekrv0\n",
      "File for Belarus, 2022 does not exist - running results\n",
      "Uploaded file '3405-2022-statistical-analysis-of-us-trade-with-belarus.pdf' as: https://generativelanguage.googleapis.com/v1beta/files/hoa82bk17qkt\n",
      "File for France, 2022 does not exist - running results\n",
      "Uploaded file '3406-2022-statistical-analysis-of-us-trade-with-france.pdf' as: https://generativelanguage.googleapis.com/v1beta/files/oqx8l4v7fzpe\n",
      "File for Germany, 2022 does not exist - running results\n",
      "Uploaded file '3407-2022-statistical-analysis-of-us-trade-with-germany.pdf' as: https://generativelanguage.googleapis.com/v1beta/files/oo70a03pnn9j\n",
      "File for Netherlands, 2022 does not exist - running results\n",
      "Uploaded file '3408-2022-statistical-analysis-of-us-trade-with-netherlands.pdf' as: https://generativelanguage.googleapis.com/v1beta/files/1fusv2cb5q35\n",
      "File for Serbia, 2022 does not exist - running results\n",
      "Uploaded file '3410-2022-statistical-analysis-of-us-trade-with-serbia.pdf' as: https://generativelanguage.googleapis.com/v1beta/files/32oofqkip0m6\n",
      "File for Spain, 2022 does not exist - running results\n",
      "Uploaded file '3411-2022-statistical-analysis-of-us-trade-with-spain.pdf' as: https://generativelanguage.googleapis.com/v1beta/files/xsmw4232mlun\n",
      "File for Tuerkiye, 2022 does not exist - running results\n",
      "Uploaded file '3412-2022-statistical-analysis-of-us-trade-with-tuerkiye.pdf' as: https://generativelanguage.googleapis.com/v1beta/files/76v3dya7kpgj\n",
      "File for Ukraine, 2022 does not exist - running results\n",
      "Uploaded file '3413-2022-statistical-analysis-of-us-trade-with-ukraine.pdf' as: https://generativelanguage.googleapis.com/v1beta/files/8smld0tsjot1\n",
      "File for United Kingdom, 2022 does not exist - running results\n",
      "Uploaded file '3414-2022-statistical-analysis-of-us-trade-with-united-kingdom.pdf' as: https://generativelanguage.googleapis.com/v1beta/files/ecgnyifzkrmg\n",
      "File for Brazil, 2022 does not exist - running results\n",
      "Uploaded file '3415-2022-statistical-analysis-of-us-trade-with-brazil.pdf' as: https://generativelanguage.googleapis.com/v1beta/files/8fjxvtn0uoso\n",
      "File for Mexico, 2022 does not exist - running results\n",
      "Uploaded file '3416-2022-statistical-analysis-of-us-trade-with-mexico.pdf' as: https://generativelanguage.googleapis.com/v1beta/files/bekuh0gech13\n",
      "File for Algeria, 2022 does not exist - running results\n",
      "Uploaded file '3417-2022-statistical-analysis-of-us-trade-with-algeria.pdf' as: https://generativelanguage.googleapis.com/v1beta/files/wr9v21mxg818\n",
      "File for Africa, 2022 does not exist - running results\n",
      "Uploaded file '3418-2022-statistical-analysis-of-us-trade-with-south-africa.pdf' as: https://generativelanguage.googleapis.com/v1beta/files/ov7bd71vmwje\n",
      "File for Armenia, 2022 does not exist - running results\n",
      "Uploaded file '3419-2022-statistical-analysis-of-us-trade-with-armenia.pdf' as: https://generativelanguage.googleapis.com/v1beta/files/6gq449sq5b29\n",
      "File for China, 2022 does not exist - running results\n",
      "Uploaded file '3420-2022-statistical-analysis-of-us-trade-with-china.pdf' as: https://generativelanguage.googleapis.com/v1beta/files/zjtgejk3wj2t\n",
      "File for India, 2022 does not exist - running results\n",
      "Uploaded file '3421-2022-statistical-analysis-of-us-trade-with-india.pdf' as: https://generativelanguage.googleapis.com/v1beta/files/uqnymcumks8r\n",
      "File for Japan, 2022 does not exist - running results\n",
      "Uploaded file '3422-2022-statistical-analysis-of-us-trade-with-japan.pdf' as: https://generativelanguage.googleapis.com/v1beta/files/v0k9cdd0gi3c\n",
      "File for Malaysia, 2022 does not exist - running results\n",
      "Uploaded file '3423-2022-statistical-analysis-of-us-trade-with-malaysia.pdf' as: https://generativelanguage.googleapis.com/v1beta/files/oavgvqb8w0y2\n",
      "File for Saudi Arabia, 2022 does not exist - running results\n",
      "Uploaded file '3424-2022-statistical-analysis-of-us-trade-with-saudi-arabia.pdf' as: https://generativelanguage.googleapis.com/v1beta/files/1pc62j52f4mb\n",
      "File for Singapore, 2022 does not exist - running results\n",
      "Uploaded file '3425-2022-statistical-analysis-of-us-trade-with-singapore.pdf' as: https://generativelanguage.googleapis.com/v1beta/files/helriw53y2ef\n",
      "File for Korea, 2022 does not exist - running results\n",
      "Uploaded file '3426-2022-statistical-analysis-of-us-trade-with-south-korea.pdf' as: https://generativelanguage.googleapis.com/v1beta/files/5f0t8gi3soj0\n",
      "File for Taiwan, 2022 does not exist - running results\n",
      "Uploaded file '3427-2022-statistical-analysis-of-us-trade-with-taiwan.pdf' as: https://generativelanguage.googleapis.com/v1beta/files/5fmnxv4yvx2u\n",
      "File for Emirates, 2022 does not exist - running results\n",
      "Uploaded file '3428-2022-statistical-analysis-of-us-trade-with-united-arab-emirates.pdf' as: https://generativelanguage.googleapis.com/v1beta/files/dev9h8yiz1mr\n",
      "File for Indonesia, 2022 does not exist - running results\n",
      "Uploaded file '3430-2022-statistical-analysis-of-us-trade-with-indonesia.pdf' as: https://generativelanguage.googleapis.com/v1beta/files/yuh0i6am5gzg\n",
      "File for Israel, 2022 does not exist - running results\n",
      "Uploaded file '3431-2022-statistical-analysis-of-us-trade-with-israel.pdf' as: https://generativelanguage.googleapis.com/v1beta/files/94xh58au3di\n",
      "File for Canada, 2022 does not exist - running results\n",
      "Uploaded file '3432-2022-statistical-analysis-of-us-trade-with-canada.pdf' as: https://generativelanguage.googleapis.com/v1beta/files/5md9httcl85o\n"
     ]
    }
   ],
   "source": [
    "# This will generate all the results for a specific year and store them in the json data directory\n",
    "# Will not run over existing results (no not bloat the computer or max out the Google Gemini key)\n",
    "# If some data is not processed correctly, manually delete the json file and run again\n",
    "# Each report takes roughly 40 seconds to process, a year will take roughly 25 minutes from scratch\n",
    "\n",
    "target_year = 2022\n",
    "\n",
    "for file in file_info_array:\n",
    "    if file[\"year\"] == target_year:\n",
    "        run_gemini_on_file_info_object(file)\n"
   ]
  }
 ],
 "metadata": {
  "kernelspec": {
   "display_name": "export_control",
   "language": "python",
   "name": "python3"
  },
  "language_info": {
   "codemirror_mode": {
    "name": "ipython",
    "version": 3
   },
   "file_extension": ".py",
   "mimetype": "text/x-python",
   "name": "python",
   "nbconvert_exporter": "python",
   "pygments_lexer": "ipython3",
   "version": "3.10.15"
  }
 },
 "nbformat": 4,
 "nbformat_minor": 2
}
